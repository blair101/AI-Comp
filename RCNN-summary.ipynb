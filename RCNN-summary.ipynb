{
 "cells": [
  {
   "cell_type": "code",
   "execution_count": 1,
   "metadata": {},
   "outputs": [
    {
     "name": "stderr",
     "output_type": "stream",
     "text": [
      "Using TensorFlow backend.\n"
     ]
    },
    {
     "name": "stdout",
     "output_type": "stream",
     "text": [
      "__________________________________________________________________________________________________\n",
      "Layer (type)                    Output Shape         Param #     Connected to                     \n",
      "==================================================================================================\n",
      "input_1 (InputLayer)            (None, 1200)         0                                            \n",
      "__________________________________________________________________________________________________\n",
      "embedding_1 (Embedding)         (None, 1200, 100)    755600      input_1[0][0]                    \n",
      "__________________________________________________________________________________________________\n",
      "bidirectional_1 (Bidirectional) (None, 1200, 256)    176640      embedding_1[0][0]                \n",
      "__________________________________________________________________________________________________\n",
      "bidirectional_2 (Bidirectional) (None, 1200, 256)    296448      bidirectional_1[0][0]            \n",
      "__________________________________________________________________________________________________\n",
      "conv1d_1 (Conv1D)               (None, 1198, 64)     49216       bidirectional_2[0][0]            \n",
      "__________________________________________________________________________________________________\n",
      "global_average_pooling1d_1 (Glo (None, 64)           0           conv1d_1[0][0]                   \n",
      "__________________________________________________________________________________________________\n",
      "global_max_pooling1d_1 (GlobalM (None, 64)           0           conv1d_1[0][0]                   \n",
      "__________________________________________________________________________________________________\n",
      "fc (Concatenate)                (None, 128)          0           global_average_pooling1d_1[0][0] \n",
      "                                                                 global_max_pooling1d_1[0][0]     \n",
      "__________________________________________________________________________________________________\n",
      "dense_1 (Dense)                 (None, 4)            516         fc[0][0]                         \n",
      "==================================================================================================\n",
      "Total params: 1,278,420\n",
      "Trainable params: 1,278,420\n",
      "Non-trainable params: 0\n",
      "__________________________________________________________________________________________________\n"
     ]
    }
   ],
   "source": [
    "import keras\n",
    "from keras import Model\n",
    "from keras.layers import *\n",
    "# from JoinAttLayer import Attention\n",
    "\n",
    "maxlen=1200\n",
    "\n",
    "inp = Input(shape=(maxlen,)) # 当输入序列的长度固定时，该值为其长度， 1200 （一个文档doc的最大长度）\n",
    "# Input 一个网络层次，输入层 在 keras\n",
    "\n",
    "# SpatialDropout1D ，那么常规的 dropout 将无法使激活正则化，且导致有效的学习速率降低。\n",
    "# SpatialDropout1D ，在这种情况下，SpatialDropout1D 将有助于提高特征图之间的独立性，应该使用它来代替 Dropout。\n",
    "\n",
    "# CuDNNGRU 是 基于CuDNN的快速GRU实现，只能在GPU上运行，只能使用 tensoflow 为后端\n",
    "# CuDNNLSTM 是 基于CuDNN的快速LSTM实现，只能在GPU上运行，只能使用 tensoflow 为后端\n",
    "\n",
    "encode = Bidirectional(CuDNNGRU(128, return_sequences=True))\n",
    "encode2 = Bidirectional(CuDNNGRU(128, return_sequences=True))\n",
    "\n",
    "# attention = Attention(maxlen)\n",
    "\n",
    "# Embedding嵌入层将正整数（下标）转换为具有固定大小的向量，如[[4], [20]]->[[0.25, 0.1], [0.6, -0.2]]\n",
    "#keras.layers.embeddings.Embedding(input_dim, output_dim, embeddings_initializer='uniform',\n",
    "                                 # embeddings_regularizer=None, activity_regularizer=None,\n",
    "                                 # embeddings_constraint=None, mask_zero=False, input_length=None)\n",
    "# Embedding层只能作为模型的第一层\n",
    "'''\n",
    "input_dim: int > 0。词汇表大小， 即，最大整数 index + 1。\n",
    "output_dim: int >= 0。词向量的维度。\n",
    "embeddings_initializer: 嵌入矩阵的初始化方法，为预定义初始化方法名的字符串，或用于初始化权重的初始化器。参考initializers\n",
    "input_length：当输入序列的长度固定时，该值为其长度。如果要在该层后接Flatten层，然后接Dense层，则必须指定该参数，否则Dense层的输出维度无法自动推断。\n",
    "'''\n",
    "\n",
    "x_4 = Embedding(7555+ 1,#7983+1 # 词汇表大小， 即，最大整数 index + 1\n",
    "                100,\n",
    "                input_length=maxlen,\n",
    "                trainable=True)(inp)\n",
    "\n",
    "\n",
    "x_3 = encode(x_4)\n",
    "\n",
    "x_3 = encode2(x_3)\n",
    "\n",
    "x_3 = Conv1D(64, kernel_size=3, padding=\"valid\", kernel_initializer=\"glorot_uniform\")(x_3)\n",
    "\n",
    "# 输入shape， 形如（samples，steps，features）的3D张量\n",
    "# 输出shape， 形如(samples, features)的2D张量\n",
    "avg_pool_3 = GlobalAveragePooling1D()(x_3) # GlobalAveragePooling1D 为时域信号施加全局平均值池化\n",
    "max_pool_3 = GlobalMaxPooling1D()(x_3) # 对于时间信号的全局最大池化\n",
    "\n",
    "# attention_3 = attention(x_3)\n",
    "\n",
    "x = keras.layers.concatenate([avg_pool_3, max_pool_3], name=\"fc\")\n",
    "x = Dense(4, activation=\"softmax\")(x)\n",
    "\n",
    "adam = keras.optimizers.Adam(lr=0.001, beta_1=0.9, beta_2=0.999, epsilon=1e-08, amsgrad=True)\n",
    "rmsprop = keras.optimizers.RMSprop(lr=0.001, rho=0.9, epsilon=1e-06)\n",
    "model = Model(inputs=inp, outputs=x)\n",
    "\n",
    "model.compile(\n",
    "    loss='categorical_crossentropy',\n",
    "    optimizer=adam)\n",
    "\n",
    "# categorical_crossentropy 用来做多分类问题\n",
    "# binary_crossentropy 用来做多标签分类问题\n",
    "\n",
    "model.summary()\n"
   ]
  },
  {
   "cell_type": "code",
   "execution_count": null,
   "metadata": {},
   "outputs": [],
   "source": []
  }
 ],
 "metadata": {
  "kernelspec": {
   "display_name": "Python 3",
   "language": "python",
   "name": "python3"
  },
  "language_info": {
   "codemirror_mode": {
    "name": "ipython",
    "version": 3
   },
   "file_extension": ".py",
   "mimetype": "text/x-python",
   "name": "python",
   "nbconvert_exporter": "python",
   "pygments_lexer": "ipython3",
   "version": "3.5.4"
  }
 },
 "nbformat": 4,
 "nbformat_minor": 2
}
